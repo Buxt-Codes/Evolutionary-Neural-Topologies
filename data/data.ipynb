{
 "cells": [
  {
   "cell_type": "code",
   "execution_count": 13,
   "id": "6a96e338",
   "metadata": {},
   "outputs": [],
   "source": [
    "import pandas as pd\n",
    "from sklearn.model_selection import train_test_split\n",
    "\n",
    "raw_train_path = \"raw/train.csv\"\n",
    "normalised_train_path = \"processed/norm_train.csv\"\n",
    "normalised_param_path = \"processed/norm_params.csv\"\n",
    "\n",
    "train_path = \"processed/train.csv\"\n",
    "val_path = \"processed/val.csv\"\n",
    "\n",
    "raw_train_df = pd.read_csv(raw_train_path)\n",
    "\n",
    "params = {}\n",
    "train_df = raw_train_df.copy()\n",
    "for col in raw_train_df.columns:\n",
    "    mean = raw_train_df[col].mean()\n",
    "    std = raw_train_df[col].std(ddof=0) or 1.0\n",
    "    train_df[col] = (raw_train_df[col] - mean) / std\n",
    "    params[col] = {\"mean\": mean, \"std\": std}\n",
    "\n",
    "train_df.to_csv(normalised_train_path, index=False)\n",
    "pd.DataFrame(params).to_csv(normalised_param_path, index=False)"
   ]
  },
  {
   "cell_type": "code",
   "execution_count": 14,
   "id": "aacd499b",
   "metadata": {},
   "outputs": [
    {
     "name": "stdout",
     "output_type": "stream",
     "text": [
      "Train size: 419331\n",
      "Val size: 104833\n"
     ]
    }
   ],
   "source": [
    "train_df, val_df = train_test_split(train_df, test_size=0.2, random_state=42)\n",
    "print(f\"Train size: {len(train_df)}\\nVal size: {len(val_df)}\")\n",
    "\n",
    "train_df.to_csv(train_path, index=False)\n",
    "val_df.to_csv(val_path, index=False)"
   ]
  }
 ],
 "metadata": {
  "kernelspec": {
   "display_name": "Python 3",
   "language": "python",
   "name": "python3"
  },
  "language_info": {
   "codemirror_mode": {
    "name": "ipython",
    "version": 3
   },
   "file_extension": ".py",
   "mimetype": "text/x-python",
   "name": "python",
   "nbconvert_exporter": "python",
   "pygments_lexer": "ipython3",
   "version": "3.10.11"
  }
 },
 "nbformat": 4,
 "nbformat_minor": 5
}
